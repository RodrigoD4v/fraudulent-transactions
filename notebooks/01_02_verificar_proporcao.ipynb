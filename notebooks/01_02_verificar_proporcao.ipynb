{
 "cells": [
  {
   "cell_type": "code",
   "execution_count": 1,
   "id": "e846e123",
   "metadata": {},
   "outputs": [],
   "source": [
    "import pandas as pd"
   ]
  },
  {
   "cell_type": "code",
   "execution_count": 2,
   "id": "6616687c",
   "metadata": {},
   "outputs": [],
   "source": [
    "full_path = \"../data/raw/Fraud.csv\"\n",
    "sample_path = \"../data/interim/Fraud_sample.parquet\"\n",
    "\n",
    "df_full = pd.read_csv(full_path)\n",
    "df_sample = pd.read_parquet(sample_path)"
   ]
  },
  {
   "cell_type": "code",
   "execution_count": 3,
   "id": "df129d4a",
   "metadata": {},
   "outputs": [
    {
     "name": "stdout",
     "output_type": "stream",
     "text": [
      "         Proporção_Original  Proporção_Amostra\n",
      "isFraud                                       \n",
      "0                  0.998709            0.99871\n",
      "1                  0.001291            0.00129\n"
     ]
    }
   ],
   "source": [
    "# Calcular proporções\n",
    "prop_full = df_full[\"isFraud\"].value_counts(normalize=True)\n",
    "prop_sample = df_sample[\"isFraud\"].value_counts(normalize=True)\n",
    "\n",
    "# Mostrar lado a lado\n",
    "comparison = pd.DataFrame({\n",
    "    \"Proporção_Original\": prop_full,\n",
    "    \"Proporção_Amostra\": prop_sample\n",
    "})\n",
    "\n",
    "print(comparison)"
   ]
  }
 ],
 "metadata": {
  "kernelspec": {
   "display_name": "EstudoCienciasDeDados",
   "language": "python",
   "name": "python3"
  },
  "language_info": {
   "codemirror_mode": {
    "name": "ipython",
    "version": 3
   },
   "file_extension": ".py",
   "mimetype": "text/x-python",
   "name": "python",
   "nbconvert_exporter": "python",
   "pygments_lexer": "ipython3",
   "version": "3.9.19"
  }
 },
 "nbformat": 4,
 "nbformat_minor": 5
}
